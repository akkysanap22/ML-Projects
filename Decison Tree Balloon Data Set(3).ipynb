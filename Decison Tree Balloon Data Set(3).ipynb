{
 "cells": [
  {
   "cell_type": "markdown",
   "metadata": {},
   "source": [
    "## Generating Decision Tree for Balloon Data set\n",
    "Dataset Link - https://archive.ics.uci.edu/ml/datasets/Balloons\n",
    "1. Task 1: Understand the data (10 Marks)\n",
    "2. Task 2: Manually - Generate Decision Tree using Information Gain & Gini Impurity ( 60 Marks)\n",
    "3. Task 3: scikit - Generate & Display Decision Tree using export_graphviz (30 Marks)\n",
    "4. Task 4: Share the link of GitHub \n"
   ]
  },
  {
   "cell_type": "code",
   "execution_count": 22,
   "metadata": {},
   "outputs": [],
   "source": [
    "import pandas as pd\n",
    "import numpy as np"
   ]
  },
  {
   "cell_type": "code",
   "execution_count": 2,
   "metadata": {},
   "outputs": [],
   "source": [
    "balloon_data = pd.read_csv('https://raw.githubusercontent.com/edyoda/Data-Scientist-program/master/Practice%20Problems/data/yellow-small%2Badult-stretch.data',names=['color','size','act','age','inflated'])"
   ]
  },
  {
   "cell_type": "code",
   "execution_count": 3,
   "metadata": {},
   "outputs": [
    {
     "data": {
      "text/html": [
       "<div>\n",
       "<style scoped>\n",
       "    .dataframe tbody tr th:only-of-type {\n",
       "        vertical-align: middle;\n",
       "    }\n",
       "\n",
       "    .dataframe tbody tr th {\n",
       "        vertical-align: top;\n",
       "    }\n",
       "\n",
       "    .dataframe thead th {\n",
       "        text-align: right;\n",
       "    }\n",
       "</style>\n",
       "<table border=\"1\" class=\"dataframe\">\n",
       "  <thead>\n",
       "    <tr style=\"text-align: right;\">\n",
       "      <th></th>\n",
       "      <th>color</th>\n",
       "      <th>size</th>\n",
       "      <th>act</th>\n",
       "      <th>age</th>\n",
       "      <th>inflated</th>\n",
       "    </tr>\n",
       "  </thead>\n",
       "  <tbody>\n",
       "    <tr>\n",
       "      <td>0</td>\n",
       "      <td>YELLOW</td>\n",
       "      <td>SMALL</td>\n",
       "      <td>STRETCH</td>\n",
       "      <td>ADULT</td>\n",
       "      <td>T</td>\n",
       "    </tr>\n",
       "    <tr>\n",
       "      <td>1</td>\n",
       "      <td>YELLOW</td>\n",
       "      <td>SMALL</td>\n",
       "      <td>STRETCH</td>\n",
       "      <td>CHILD</td>\n",
       "      <td>T</td>\n",
       "    </tr>\n",
       "    <tr>\n",
       "      <td>2</td>\n",
       "      <td>YELLOW</td>\n",
       "      <td>SMALL</td>\n",
       "      <td>DIP</td>\n",
       "      <td>ADULT</td>\n",
       "      <td>T</td>\n",
       "    </tr>\n",
       "    <tr>\n",
       "      <td>3</td>\n",
       "      <td>YELLOW</td>\n",
       "      <td>SMALL</td>\n",
       "      <td>DIP</td>\n",
       "      <td>CHILD</td>\n",
       "      <td>T</td>\n",
       "    </tr>\n",
       "    <tr>\n",
       "      <td>4</td>\n",
       "      <td>YELLOW</td>\n",
       "      <td>LARGE</td>\n",
       "      <td>STRETCH</td>\n",
       "      <td>ADULT</td>\n",
       "      <td>T</td>\n",
       "    </tr>\n",
       "    <tr>\n",
       "      <td>5</td>\n",
       "      <td>YELLOW</td>\n",
       "      <td>LARGE</td>\n",
       "      <td>STRETCH</td>\n",
       "      <td>CHILD</td>\n",
       "      <td>F</td>\n",
       "    </tr>\n",
       "    <tr>\n",
       "      <td>6</td>\n",
       "      <td>YELLOW</td>\n",
       "      <td>LARGE</td>\n",
       "      <td>DIP</td>\n",
       "      <td>ADULT</td>\n",
       "      <td>F</td>\n",
       "    </tr>\n",
       "    <tr>\n",
       "      <td>7</td>\n",
       "      <td>YELLOW</td>\n",
       "      <td>LARGE</td>\n",
       "      <td>DIP</td>\n",
       "      <td>CHILD</td>\n",
       "      <td>F</td>\n",
       "    </tr>\n",
       "    <tr>\n",
       "      <td>8</td>\n",
       "      <td>PURPLE</td>\n",
       "      <td>SMALL</td>\n",
       "      <td>STRETCH</td>\n",
       "      <td>ADULT</td>\n",
       "      <td>T</td>\n",
       "    </tr>\n",
       "    <tr>\n",
       "      <td>9</td>\n",
       "      <td>PURPLE</td>\n",
       "      <td>SMALL</td>\n",
       "      <td>STRETCH</td>\n",
       "      <td>CHILD</td>\n",
       "      <td>F</td>\n",
       "    </tr>\n",
       "    <tr>\n",
       "      <td>10</td>\n",
       "      <td>PURPLE</td>\n",
       "      <td>SMALL</td>\n",
       "      <td>DIP</td>\n",
       "      <td>ADULT</td>\n",
       "      <td>F</td>\n",
       "    </tr>\n",
       "    <tr>\n",
       "      <td>11</td>\n",
       "      <td>PURPLE</td>\n",
       "      <td>SMALL</td>\n",
       "      <td>DIP</td>\n",
       "      <td>CHILD</td>\n",
       "      <td>F</td>\n",
       "    </tr>\n",
       "    <tr>\n",
       "      <td>12</td>\n",
       "      <td>PURPLE</td>\n",
       "      <td>LARGE</td>\n",
       "      <td>STRETCH</td>\n",
       "      <td>ADULT</td>\n",
       "      <td>T</td>\n",
       "    </tr>\n",
       "    <tr>\n",
       "      <td>13</td>\n",
       "      <td>PURPLE</td>\n",
       "      <td>LARGE</td>\n",
       "      <td>STRETCH</td>\n",
       "      <td>CHILD</td>\n",
       "      <td>F</td>\n",
       "    </tr>\n",
       "    <tr>\n",
       "      <td>14</td>\n",
       "      <td>PURPLE</td>\n",
       "      <td>LARGE</td>\n",
       "      <td>DIP</td>\n",
       "      <td>ADULT</td>\n",
       "      <td>F</td>\n",
       "    </tr>\n",
       "    <tr>\n",
       "      <td>15</td>\n",
       "      <td>PURPLE</td>\n",
       "      <td>LARGE</td>\n",
       "      <td>DIP</td>\n",
       "      <td>CHILD</td>\n",
       "      <td>F</td>\n",
       "    </tr>\n",
       "  </tbody>\n",
       "</table>\n",
       "</div>"
      ],
      "text/plain": [
       "     color   size      act    age inflated\n",
       "0   YELLOW  SMALL  STRETCH  ADULT        T\n",
       "1   YELLOW  SMALL  STRETCH  CHILD        T\n",
       "2   YELLOW  SMALL      DIP  ADULT        T\n",
       "3   YELLOW  SMALL      DIP  CHILD        T\n",
       "4   YELLOW  LARGE  STRETCH  ADULT        T\n",
       "5   YELLOW  LARGE  STRETCH  CHILD        F\n",
       "6   YELLOW  LARGE      DIP  ADULT        F\n",
       "7   YELLOW  LARGE      DIP  CHILD        F\n",
       "8   PURPLE  SMALL  STRETCH  ADULT        T\n",
       "9   PURPLE  SMALL  STRETCH  CHILD        F\n",
       "10  PURPLE  SMALL      DIP  ADULT        F\n",
       "11  PURPLE  SMALL      DIP  CHILD        F\n",
       "12  PURPLE  LARGE  STRETCH  ADULT        T\n",
       "13  PURPLE  LARGE  STRETCH  CHILD        F\n",
       "14  PURPLE  LARGE      DIP  ADULT        F\n",
       "15  PURPLE  LARGE      DIP  CHILD        F"
      ]
     },
     "execution_count": 3,
     "metadata": {},
     "output_type": "execute_result"
    }
   ],
   "source": [
    "balloon_data"
   ]
  },
  {
   "cell_type": "markdown",
   "metadata": {},
   "source": [
    "## Task 1: Understand the data (10 Marks)"
   ]
  },
  {
   "cell_type": "code",
   "execution_count": 6,
   "metadata": {},
   "outputs": [
    {
     "data": {
      "text/html": [
       "<div>\n",
       "<style scoped>\n",
       "    .dataframe tbody tr th:only-of-type {\n",
       "        vertical-align: middle;\n",
       "    }\n",
       "\n",
       "    .dataframe tbody tr th {\n",
       "        vertical-align: top;\n",
       "    }\n",
       "\n",
       "    .dataframe thead th {\n",
       "        text-align: right;\n",
       "    }\n",
       "</style>\n",
       "<table border=\"1\" class=\"dataframe\">\n",
       "  <thead>\n",
       "    <tr style=\"text-align: right;\">\n",
       "      <th></th>\n",
       "      <th>color</th>\n",
       "      <th>size</th>\n",
       "      <th>act</th>\n",
       "      <th>age</th>\n",
       "      <th>inflated</th>\n",
       "    </tr>\n",
       "  </thead>\n",
       "  <tbody>\n",
       "    <tr>\n",
       "      <td>count</td>\n",
       "      <td>16</td>\n",
       "      <td>16</td>\n",
       "      <td>16</td>\n",
       "      <td>16</td>\n",
       "      <td>16</td>\n",
       "    </tr>\n",
       "    <tr>\n",
       "      <td>unique</td>\n",
       "      <td>2</td>\n",
       "      <td>2</td>\n",
       "      <td>2</td>\n",
       "      <td>2</td>\n",
       "      <td>2</td>\n",
       "    </tr>\n",
       "    <tr>\n",
       "      <td>top</td>\n",
       "      <td>YELLOW</td>\n",
       "      <td>LARGE</td>\n",
       "      <td>STRETCH</td>\n",
       "      <td>ADULT</td>\n",
       "      <td>F</td>\n",
       "    </tr>\n",
       "    <tr>\n",
       "      <td>freq</td>\n",
       "      <td>8</td>\n",
       "      <td>8</td>\n",
       "      <td>8</td>\n",
       "      <td>8</td>\n",
       "      <td>9</td>\n",
       "    </tr>\n",
       "  </tbody>\n",
       "</table>\n",
       "</div>"
      ],
      "text/plain": [
       "         color   size      act    age inflated\n",
       "count       16     16       16     16       16\n",
       "unique       2      2        2      2        2\n",
       "top     YELLOW  LARGE  STRETCH  ADULT        F\n",
       "freq         8      8        8      8        9"
      ]
     },
     "execution_count": 6,
     "metadata": {},
     "output_type": "execute_result"
    }
   ],
   "source": [
    "balloon_data.describe()"
   ]
  },
  {
   "cell_type": "code",
   "execution_count": 12,
   "metadata": {},
   "outputs": [
    {
     "data": {
      "text/plain": [
       "YELLOW    8\n",
       "PURPLE    8\n",
       "Name: color, dtype: int64"
      ]
     },
     "execution_count": 12,
     "metadata": {},
     "output_type": "execute_result"
    }
   ],
   "source": [
    "balloon_data['color'].value_counts()"
   ]
  },
  {
   "cell_type": "code",
   "execution_count": 11,
   "metadata": {},
   "outputs": [
    {
     "data": {
      "text/plain": [
       "LARGE    8\n",
       "SMALL    8\n",
       "Name: size, dtype: int64"
      ]
     },
     "execution_count": 11,
     "metadata": {},
     "output_type": "execute_result"
    }
   ],
   "source": [
    "balloon_data['size'].value_counts()"
   ]
  },
  {
   "cell_type": "code",
   "execution_count": 13,
   "metadata": {},
   "outputs": [
    {
     "data": {
      "text/plain": [
       "STRETCH    8\n",
       "DIP        8\n",
       "Name: act, dtype: int64"
      ]
     },
     "execution_count": 13,
     "metadata": {},
     "output_type": "execute_result"
    }
   ],
   "source": [
    "balloon_data['act'].value_counts()"
   ]
  },
  {
   "cell_type": "code",
   "execution_count": 14,
   "metadata": {},
   "outputs": [
    {
     "data": {
      "text/plain": [
       "ADULT    8\n",
       "CHILD    8\n",
       "Name: age, dtype: int64"
      ]
     },
     "execution_count": 14,
     "metadata": {},
     "output_type": "execute_result"
    }
   ],
   "source": [
    "balloon_data['age'].value_counts()"
   ]
  },
  {
   "cell_type": "code",
   "execution_count": 15,
   "metadata": {},
   "outputs": [
    {
     "data": {
      "text/plain": [
       "F    9\n",
       "T    7\n",
       "Name: inflated, dtype: int64"
      ]
     },
     "execution_count": 15,
     "metadata": {},
     "output_type": "execute_result"
    }
   ],
   "source": [
    "balloon_data['inflated'].value_counts()"
   ]
  },
  {
   "cell_type": "markdown",
   "metadata": {},
   "source": [
    "### Dataset Conclusion\n",
    "\n",
    "1) Color\n",
    "*YELLOW    8 - 50 %\n",
    "*PURPLE    8 - 50 %\n",
    "\n",
    "2) Size\n",
    "*LARGE     8 - 50 %\n",
    "*SMALL     8 - 50 %\n",
    "\n",
    "3) act\n",
    "*STRETCH   8 - 50 %\n",
    "*DIP       8 - 50 %\n",
    "\n",
    "4) age\n",
    "*ADULT      8 - 50 %\n",
    "*CHILD      8 - 50 %\n",
    "\n",
    "5) inflated\n",
    "*F      9 - 56 %   *T      7 - 44 %\n"
   ]
  },
  {
   "cell_type": "markdown",
   "metadata": {},
   "source": [
    "#### Binning Technique"
   ]
  },
  {
   "cell_type": "markdown",
   "metadata": {},
   "source": [
    "* For Color column value ranges from [0,1]\n",
    "    * Buckets[.,0.5,1.0]\n",
    "* For Size column value ranges from [0.1]\n",
    "    * Buckets[.,0.5,.]\n",
    "* For Act column value ranges from [0.1]\n",
    "    * Buckets[.,0.5,.]\n",
    "* For Age column value ranges from [0.1]\n",
    "    * Buckets[.,0.5,.]\n"
   ]
  },
  {
   "cell_type": "markdown",
   "metadata": {},
   "source": [
    "### What are the possible questions or decision?\n",
    "* For Color attribute, questions can be any of the following\n",
    "    * (a) color <0.5\n",
    "* For Size\n",
    "    * (b) size <0.5\n",
    "* For Act\n",
    "    * (c) act<0.5\n",
    "* For Windy\n",
    "    * (d) windy<0.5\n",
    "    "
   ]
  },
  {
   "cell_type": "markdown",
   "metadata": {},
   "source": [
    "### Task 2: Manually - Generate Decision Tree using Information Gain & Gini Impurity ( 60 Marks)"
   ]
  },
  {
   "cell_type": "code",
   "execution_count": 35,
   "metadata": {},
   "outputs": [],
   "source": [
    "from sklearn.preprocessing import OrdinalEncoder\n",
    "oe = OrdinalEncoder()\n",
    "enc_data = oe.fit_transform(balloon_data)\n",
    "data = pd.DataFrame(enc_data, columns=['color','size','act','age','inflated'], dtype=int)# convert the data to dataframe"
   ]
  },
  {
   "cell_type": "code",
   "execution_count": 36,
   "metadata": {},
   "outputs": [
    {
     "data": {
      "text/html": [
       "<div>\n",
       "<style scoped>\n",
       "    .dataframe tbody tr th:only-of-type {\n",
       "        vertical-align: middle;\n",
       "    }\n",
       "\n",
       "    .dataframe tbody tr th {\n",
       "        vertical-align: top;\n",
       "    }\n",
       "\n",
       "    .dataframe thead th {\n",
       "        text-align: right;\n",
       "    }\n",
       "</style>\n",
       "<table border=\"1\" class=\"dataframe\">\n",
       "  <thead>\n",
       "    <tr style=\"text-align: right;\">\n",
       "      <th></th>\n",
       "      <th>color</th>\n",
       "      <th>size</th>\n",
       "      <th>act</th>\n",
       "      <th>age</th>\n",
       "      <th>inflated</th>\n",
       "    </tr>\n",
       "  </thead>\n",
       "  <tbody>\n",
       "    <tr>\n",
       "      <td>0</td>\n",
       "      <td>1</td>\n",
       "      <td>1</td>\n",
       "      <td>1</td>\n",
       "      <td>0</td>\n",
       "      <td>1</td>\n",
       "    </tr>\n",
       "    <tr>\n",
       "      <td>1</td>\n",
       "      <td>1</td>\n",
       "      <td>1</td>\n",
       "      <td>1</td>\n",
       "      <td>1</td>\n",
       "      <td>1</td>\n",
       "    </tr>\n",
       "    <tr>\n",
       "      <td>2</td>\n",
       "      <td>1</td>\n",
       "      <td>1</td>\n",
       "      <td>0</td>\n",
       "      <td>0</td>\n",
       "      <td>1</td>\n",
       "    </tr>\n",
       "    <tr>\n",
       "      <td>3</td>\n",
       "      <td>1</td>\n",
       "      <td>1</td>\n",
       "      <td>0</td>\n",
       "      <td>1</td>\n",
       "      <td>1</td>\n",
       "    </tr>\n",
       "    <tr>\n",
       "      <td>4</td>\n",
       "      <td>1</td>\n",
       "      <td>0</td>\n",
       "      <td>1</td>\n",
       "      <td>0</td>\n",
       "      <td>1</td>\n",
       "    </tr>\n",
       "    <tr>\n",
       "      <td>5</td>\n",
       "      <td>1</td>\n",
       "      <td>0</td>\n",
       "      <td>1</td>\n",
       "      <td>1</td>\n",
       "      <td>0</td>\n",
       "    </tr>\n",
       "    <tr>\n",
       "      <td>6</td>\n",
       "      <td>1</td>\n",
       "      <td>0</td>\n",
       "      <td>0</td>\n",
       "      <td>0</td>\n",
       "      <td>0</td>\n",
       "    </tr>\n",
       "    <tr>\n",
       "      <td>7</td>\n",
       "      <td>1</td>\n",
       "      <td>0</td>\n",
       "      <td>0</td>\n",
       "      <td>1</td>\n",
       "      <td>0</td>\n",
       "    </tr>\n",
       "    <tr>\n",
       "      <td>8</td>\n",
       "      <td>0</td>\n",
       "      <td>1</td>\n",
       "      <td>1</td>\n",
       "      <td>0</td>\n",
       "      <td>1</td>\n",
       "    </tr>\n",
       "    <tr>\n",
       "      <td>9</td>\n",
       "      <td>0</td>\n",
       "      <td>1</td>\n",
       "      <td>1</td>\n",
       "      <td>1</td>\n",
       "      <td>0</td>\n",
       "    </tr>\n",
       "    <tr>\n",
       "      <td>10</td>\n",
       "      <td>0</td>\n",
       "      <td>1</td>\n",
       "      <td>0</td>\n",
       "      <td>0</td>\n",
       "      <td>0</td>\n",
       "    </tr>\n",
       "    <tr>\n",
       "      <td>11</td>\n",
       "      <td>0</td>\n",
       "      <td>1</td>\n",
       "      <td>0</td>\n",
       "      <td>1</td>\n",
       "      <td>0</td>\n",
       "    </tr>\n",
       "    <tr>\n",
       "      <td>12</td>\n",
       "      <td>0</td>\n",
       "      <td>0</td>\n",
       "      <td>1</td>\n",
       "      <td>0</td>\n",
       "      <td>1</td>\n",
       "    </tr>\n",
       "    <tr>\n",
       "      <td>13</td>\n",
       "      <td>0</td>\n",
       "      <td>0</td>\n",
       "      <td>1</td>\n",
       "      <td>1</td>\n",
       "      <td>0</td>\n",
       "    </tr>\n",
       "    <tr>\n",
       "      <td>14</td>\n",
       "      <td>0</td>\n",
       "      <td>0</td>\n",
       "      <td>0</td>\n",
       "      <td>0</td>\n",
       "      <td>0</td>\n",
       "    </tr>\n",
       "    <tr>\n",
       "      <td>15</td>\n",
       "      <td>0</td>\n",
       "      <td>0</td>\n",
       "      <td>0</td>\n",
       "      <td>1</td>\n",
       "      <td>0</td>\n",
       "    </tr>\n",
       "  </tbody>\n",
       "</table>\n",
       "</div>"
      ],
      "text/plain": [
       "    color  size  act  age  inflated\n",
       "0       1     1    1    0         1\n",
       "1       1     1    1    1         1\n",
       "2       1     1    0    0         1\n",
       "3       1     1    0    1         1\n",
       "4       1     0    1    0         1\n",
       "5       1     0    1    1         0\n",
       "6       1     0    0    0         0\n",
       "7       1     0    0    1         0\n",
       "8       0     1    1    0         1\n",
       "9       0     1    1    1         0\n",
       "10      0     1    0    0         0\n",
       "11      0     1    0    1         0\n",
       "12      0     0    1    0         1\n",
       "13      0     0    1    1         0\n",
       "14      0     0    0    0         0\n",
       "15      0     0    0    1         0"
      ]
     },
     "execution_count": 36,
     "metadata": {},
     "output_type": "execute_result"
    }
   ],
   "source": [
    "data"
   ]
  },
  {
   "cell_type": "markdown",
   "metadata": {},
   "source": [
    "## Based on Gini Impurity"
   ]
  },
  {
   "cell_type": "code",
   "execution_count": 83,
   "metadata": {},
   "outputs": [],
   "source": [
    "#Based on Gini Impurity\n",
    "class DecisionTreeClassifier:\n",
    "    \n",
    "    def __init__(self):\n",
    "        self.feature_ranges = {}\n",
    "    \n",
    "    def createDecisionsFromData(self,feature_data):\n",
    "        \n",
    "        for col in feature_data.columns:\n",
    "            ranges_info = []\n",
    "            i = 0.5\n",
    "            cat_max = feature_data[col].max()\n",
    "            while i < cat_max:\n",
    "                ranges_info.append(i)\n",
    "                i = i+1\n",
    "                \n",
    "            self.feature_ranges[col] = ranges_info\n",
    "            \n",
    "        decisions = list(dt.feature_ranges.items())\n",
    "        \n",
    "        self.decisions = []\n",
    "        for f,buckets in decisions:\n",
    "            for bucket in buckets:\n",
    "                self.decisions.append((f,bucket))\n",
    "    \n",
    "    def calGini(self,target):\n",
    "        total = (target.value_counts()).sum()\n",
    "        \n",
    "        l = list(target.value_counts().values)\n",
    "        \n",
    "        gini = 0\n",
    "        \n",
    "        for e in l:\n",
    "            gini += (e/total) * (1 - (e/total)) # Formula to calculate gini index\n",
    "        \n",
    "        return gini\n",
    "    \n",
    "    def select_decision(self, data):\n",
    "        GiniBeforeSplit = self.calGini(data.target)\n",
    "        if GiniBeforeSplit == 0:\n",
    "            return\n",
    "        #print('GiniBeforeSplit',GiniBeforeSplit)\n",
    "        \n",
    "        max_gini_gain = 0\n",
    "        for feature,value in self.decisions:\n",
    "            \n",
    "            data_left = data[data[feature] < value]\n",
    "            GiniLeft = self.calGini(data_left.target)\n",
    "            \n",
    "            data_right = data[data[feature] > value]\n",
    "            GiniRight = self.calGini(data_right.target)\n",
    "            \n",
    "            GiniSplit = (data_left.shape[0]/data.shape[0])* GiniLeft + (data_right.shape[0]/data.shape[0])* GiniRight\n",
    "            GiniGain = GiniBeforeSplit - GiniSplit\n",
    "            \n",
    "            if GiniGain > max_gini_gain:\n",
    "                max_gini_gain = GiniGain\n",
    "                best_data_left = data_left\n",
    "                best_data_right = data_right\n",
    "                best_feature = feature\n",
    "                best_value = value\n",
    "        \n",
    "        print(best_feature,best_value)\n",
    "        print('Gini-Left',GiniLeft)\n",
    "        self.select_decision(best_data_left)\n",
    "        print('Gini-Right',GiniRight)\n",
    "        self.select_decision(best_data_right)\n",
    "    \n",
    "    #Calculate Gini Gain for each decision & chose the one which is best\n",
    "    def myfit(self, feature_data, target_data):\n",
    "        \n",
    "        feature_data['target'] = target_data\n",
    "        data = feature_data\n",
    "        self.select_decision(data)"
   ]
  },
  {
   "cell_type": "code",
   "execution_count": 84,
   "metadata": {},
   "outputs": [],
   "source": [
    "dt = DecisionTreeClassifier()"
   ]
  },
  {
   "cell_type": "code",
   "execution_count": 85,
   "metadata": {},
   "outputs": [],
   "source": [
    "dt.createDecisionsFromData(data.drop(columns=['inflated']))"
   ]
  },
  {
   "cell_type": "code",
   "execution_count": 86,
   "metadata": {},
   "outputs": [
    {
     "name": "stdout",
     "output_type": "stream",
     "text": [
      "color 0.5\n",
      "Gini-Left 0.46875\n",
      "act 0.5\n",
      "Gini-Left 0.5\n",
      "Gini-Right 0.0\n",
      "age 0.5\n",
      "Gini-Left 0.0\n",
      "Gini-Right 0.0\n",
      "Gini-Right 0.375\n",
      "size 0.5\n",
      "Gini-Left 0.375\n",
      "act 0.5\n",
      "Gini-Left 0.5\n",
      "Gini-Right 0.0\n",
      "age 0.5\n",
      "Gini-Left 0.0\n",
      "Gini-Right 0.0\n",
      "Gini-Right 0.5\n"
     ]
    }
   ],
   "source": [
    "dt.myfit(data.drop(columns=['inflated']), data.inflated)"
   ]
  },
  {
   "cell_type": "markdown",
   "metadata": {},
   "source": [
    "## Using Information Gain"
   ]
  },
  {
   "cell_type": "code",
   "execution_count": 89,
   "metadata": {},
   "outputs": [],
   "source": [
    "#Based on Information Gain\n",
    "class DecisionTreeClassifier:\n",
    "    \n",
    "    def __init__(self):\n",
    "        self.feature_ranges = {}\n",
    "    \n",
    "    def createDecisionsFromData(self,feature_data):\n",
    "        \n",
    "        for col in feature_data.columns:\n",
    "            ranges_info = []\n",
    "            i = 0.5\n",
    "            cat_max = feature_data[col].max()\n",
    "            while i < cat_max:\n",
    "                ranges_info.append(i)\n",
    "                i = i+1\n",
    "                \n",
    "            self.feature_ranges[col] = ranges_info\n",
    "            \n",
    "        decisions = list(dt.feature_ranges.items())\n",
    "        \n",
    "        self.decisions = []\n",
    "        for f,buckets in decisions:\n",
    "            for bucket in buckets:\n",
    "                self.decisions.append((f,bucket))\n",
    "    \n",
    "    def calGini(self,target):\n",
    "        total = (target.value_counts()).sum()  \n",
    "        \n",
    "        l = list(target.value_counts().values)\n",
    "        \n",
    "        entropy = 0 \n",
    "        \n",
    "        for e in l:\n",
    "            entropy += (e/total) * np.log2(e/total) # formula to calculate Information Gain\n",
    "        \n",
    "        if entropy < 0:\n",
    "            return -entropy\n",
    "        return entropy\n",
    "    \n",
    "    def select_decision(self, data):\n",
    "        GiniBeforeSplit = self.calGini(data.target)\n",
    "        if GiniBeforeSplit == 0:\n",
    "            return\n",
    "        #print('GiniBeforeSplit',GiniBeforeSplit)\n",
    "        \n",
    "        max_gini_gain = 0\n",
    "        for feature,value in self.decisions:\n",
    "            \n",
    "            data_left = data[data[feature] < value]\n",
    "            GiniLeft = self.calGini(data_left.target)\n",
    "            \n",
    "            data_right = data[data[feature] > value]\n",
    "            GiniRight = self.calGini(data_right.target)\n",
    "            \n",
    "            GiniSplit = (data_left.shape[0]/data.shape[0])* GiniLeft + (data_right.shape[0]/data.shape[0])* GiniRight\n",
    "            GiniGain = GiniBeforeSplit - GiniSplit\n",
    "            \n",
    "            if GiniGain > max_gini_gain:\n",
    "                max_gini_gain = GiniGain\n",
    "                best_data_left = data_left\n",
    "                best_data_right = data_right\n",
    "                best_feature = feature\n",
    "                best_value = value\n",
    "        \n",
    "        print(best_feature,best_value)\n",
    "        print('Gini-Left',GiniLeft)\n",
    "        self.select_decision(best_data_left)\n",
    "        print('Gini-Right',GiniRight)\n",
    "        self.select_decision(best_data_right)\n",
    "    \n",
    "    #Calculate Gini Gain for each decision & chose the one which is best\n",
    "    def myfit(self, feature_data, target_data):\n",
    "        \n",
    "        feature_data['target'] = target_data\n",
    "        data = feature_data\n",
    "        self.select_decision(data)"
   ]
  },
  {
   "cell_type": "code",
   "execution_count": 43,
   "metadata": {},
   "outputs": [],
   "source": [
    "dt = DecisionTreeClassifier()"
   ]
  },
  {
   "cell_type": "code",
   "execution_count": 91,
   "metadata": {},
   "outputs": [],
   "source": [
    "dt.createDecisionsFromData(data.drop(columns=['inflated']))"
   ]
  },
  {
   "cell_type": "code",
   "execution_count": 93,
   "metadata": {},
   "outputs": [
    {
     "name": "stdout",
     "output_type": "stream",
     "text": [
      "color 0.5\n",
      "Gini-Left 0.46875\n",
      "act 0.5\n",
      "Gini-Left 0.5\n",
      "Gini-Right 0.0\n",
      "age 0.5\n",
      "Gini-Left 0.0\n",
      "Gini-Right 0.0\n",
      "Gini-Right 0.375\n",
      "size 0.5\n",
      "Gini-Left 0.375\n",
      "act 0.5\n",
      "Gini-Left 0.5\n",
      "Gini-Right 0.0\n",
      "age 0.5\n",
      "Gini-Left 0.0\n",
      "Gini-Right 0.0\n",
      "Gini-Right 0.5\n"
     ]
    }
   ],
   "source": [
    "dt.myfit(data.drop(columns=['inflated']), data.inflated)"
   ]
  },
  {
   "cell_type": "markdown",
   "metadata": {},
   "source": [
    "## Task 3: scikit - Generate & Display Decision Tree using export_graphviz(30 Marks)"
   ]
  },
  {
   "cell_type": "code",
   "execution_count": 50,
   "metadata": {},
   "outputs": [],
   "source": [
    "from sklearn.tree import DecisionTreeClassifier\n",
    "dt = DecisionTreeClassifier()"
   ]
  },
  {
   "cell_type": "code",
   "execution_count": 51,
   "metadata": {},
   "outputs": [
    {
     "data": {
      "text/plain": [
       "DecisionTreeClassifier(class_weight=None, criterion='gini', max_depth=None,\n",
       "                       max_features=None, max_leaf_nodes=None,\n",
       "                       min_impurity_decrease=0.0, min_impurity_split=None,\n",
       "                       min_samples_leaf=1, min_samples_split=2,\n",
       "                       min_weight_fraction_leaf=0.0, presort=False,\n",
       "                       random_state=None, splitter='best')"
      ]
     },
     "execution_count": 51,
     "metadata": {},
     "output_type": "execute_result"
    }
   ],
   "source": [
    "dt.fit(data.drop(columns=['inflated']), data['inflated'])"
   ]
  },
  {
   "cell_type": "code",
   "execution_count": 52,
   "metadata": {},
   "outputs": [],
   "source": [
    "from sklearn.tree import export_graphviz"
   ]
  },
  {
   "cell_type": "code",
   "execution_count": 55,
   "metadata": {},
   "outputs": [],
   "source": [
    "export_graphviz(dt, 'BalloonDecisionTree.tree', feature_names=['color','size','act','age'])"
   ]
  },
  {
   "cell_type": "markdown",
   "metadata": {},
   "source": [
    "## Tree"
   ]
  },
  {
   "cell_type": "markdown",
   "metadata": {},
   "source": [
    "*Click here to see tree"
   ]
  },
  {
   "cell_type": "markdown",
   "metadata": {},
   "source": [
    "https://github.com/akkysanap22/Edyoda_graded_Assignments/blob/master/ballon_decisionTree.JPG"
   ]
  }
 ],
 "metadata": {
  "kernelspec": {
   "display_name": "Python 3",
   "language": "python",
   "name": "python3"
  },
  "language_info": {
   "codemirror_mode": {
    "name": "ipython",
    "version": 3
   },
   "file_extension": ".py",
   "mimetype": "text/x-python",
   "name": "python",
   "nbconvert_exporter": "python",
   "pygments_lexer": "ipython3",
   "version": "3.7.4"
  }
 },
 "nbformat": 4,
 "nbformat_minor": 2
}
